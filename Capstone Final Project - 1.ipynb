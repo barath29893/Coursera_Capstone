{
 "cells": [
  {
   "cell_type": "markdown",
   "metadata": {},
   "source": [
    "# Exploring for potential New Hotel venues in Tokoyo Districts\n",
    "## 1. Introduction\n",
    "### a. Background\n",
    "### This report is for those who are planning to start a new hotel in the city of Tokoyo. It provides a suggestion on what would be the best venue to start a new hotel in a highly visited city with already many good hotels. Tokoyo is one of the most popular tourist destinations in the world. Tokoyo is one of the most busiest cities in the world. From 2010 to 2017, nearly 13.8 Million tourists visited Tokoyo. Tokoyo has many attraction and would be a ver ygood place to start a hotel.  \n",
    "\n",
    "### b. Business Problem\n",
    "### This report focusses on the issue of where to open a new hotel in a city like Tokoyo, once one has decided to go ahead. Let’s imagine the Tata Subsidery Tata Hotels willing to open a new luxury hotel, a first and foremost important decision will be the location for its new hotel.\n",
    "\n",
    "### c. Interest\n",
    "### On what basis can Tata decide its new hotel's location?\n",
    "\n",
    "### While selecting the place there are key points to consider like they need to check out like where the most well-visited venues of the city are?\n",
    "\n",
    "### If incase there are already other luxury hotels which have good ratings, will it be risky to open new one near these hotels?¶\n",
    "\n",
    "## 2. Data Preparation\n",
    "### a. Scrapping Tokoyo Districts Table from Wikipedia\n",
    "### I first make use of Districts of Tokoyo page from Wiki to scrap the table to create a data-frame. For this, I used requests and Beautifulsoup4 library to create a data-frame containing name of the districts of Tokoyo, Area, population and 1st Major District. We start as below —\n",
    "\n",
    "## 2. Approach\n",
    "### Foursquare API:\n",
    "### This project would use Four-square API as its prime data gathering source as it has a database of millions of places, especially their places API which provides the ability to perform location search, location sharing and details about a business.\n",
    "\n",
    "### Custering Approach:\n",
    "### To compare the similarities of two cities, we decided to explore neighborhoods, segment them, and group them into clusters to find similar neighborhoods in a big city like Tokyo. To be able to do that, we need to cluster data which is a form of unsupervised machine learning: k-means clustering algorithm\n",
    "\n",
    "## Libraries Which are Used to Develope the Project:\n",
    "### Pandas: For creating and manipulating dataframes.\n",
    "\n",
    "### Folium: Python visualization library would be used to visualize the neighborhoods cluster distribution of using interactive leaflet map.\n",
    "\n",
    "### Scikit Learn: For importing k-means clustering.\n",
    "\n",
    "### JSON: Library to handle JSON files.\n",
    "\n",
    "### XML: To separate data from presentation and XML stores data in plain text format.\n",
    "\n",
    "### Geocoder: To retrieve Location Data.\n",
    "\n",
    "### Beautiful Soup and Requests: To scrap and library to handle http requests.\n",
    "\n",
    "### Matplotlib: Python Plotting Module."
   ]
  }
 ],
 "metadata": {
  "kernelspec": {
   "display_name": "Python 3",
   "language": "python",
   "name": "python3"
  },
  "language_info": {
   "codemirror_mode": {
    "name": "ipython",
    "version": 3
   },
   "file_extension": ".py",
   "mimetype": "text/x-python",
   "name": "python",
   "nbconvert_exporter": "python",
   "pygments_lexer": "ipython3",
   "version": "3.7.3"
  }
 },
 "nbformat": 4,
 "nbformat_minor": 2
}
